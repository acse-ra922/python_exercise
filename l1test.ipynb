{
 "cells": [
  {
   "cell_type": "code",
   "execution_count": 3,
   "id": "47048b64",
   "metadata": {},
   "outputs": [],
   "source": [
    "import os\n",
    "import numpy as np"
   ]
  },
  {
   "cell_type": "markdown",
   "id": "9be8658a",
   "metadata": {},
   "source": [
    "Some code"
   ]
  },
  {
   "cell_type": "code",
   "execution_count": 2,
   "id": "911e8ebd",
   "metadata": {},
   "outputs": [
    {
     "name": "stdout",
     "output_type": "stream",
     "text": [
      "28\n"
     ]
    }
   ],
   "source": [
    "print(28)"
   ]
  }
 ],
 "metadata": {
  "kernelspec": {
   "display_name": "Python 3.10.4 ('ese-msc')",
   "language": "python",
   "name": "python3"
  },
  "language_info": {
   "codemirror_mode": {
    "name": "ipython",
    "version": 3
   },
   "file_extension": ".py",
   "mimetype": "text/x-python",
   "name": "python",
   "nbconvert_exporter": "python",
   "pygments_lexer": "ipython3",
   "version": "3.10.4"
  },
  "vscode": {
   "interpreter": {
    "hash": "4a457e164e82fbdd0c50bbd0ff8e16333f281efce9bcda9c50fec262f6696a0e"
   }
  }
 },
 "nbformat": 4,
 "nbformat_minor": 5
}
